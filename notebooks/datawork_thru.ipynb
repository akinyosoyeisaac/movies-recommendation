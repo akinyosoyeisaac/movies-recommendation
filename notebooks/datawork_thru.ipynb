{
 "cells": [
  {
   "cell_type": "code",
   "execution_count": 74,
   "metadata": {},
   "outputs": [],
   "source": [
    "import pandas as pd\n",
    "import numpy as np\n",
    "import seaborn as sns\n",
    "import matplotlib.pyplot as plt\n",
    "from surprise import Dataset, SVD, Reader\n",
    "from surprise.model_selection import cross_validate\n",
    "from surprise.dump import dump\n",
    "from sklearn.model_selection import train_test_split\n",
    "from sklearn.preprocessing import StandardScaler\n",
    "%matplotlib inline"
   ]
  },
  {
   "cell_type": "code",
   "execution_count": 3,
   "metadata": {},
   "outputs": [
    {
     "name": "stdout",
     "output_type": "stream",
     "text": [
      "c:\\Users\\CARNOT\\movies-recommendation\n"
     ]
    }
   ],
   "source": [
    "%cd .."
   ]
  },
  {
   "cell_type": "code",
   "execution_count": 4,
   "metadata": {},
   "outputs": [
    {
     "data": {
      "text/plain": [
       "'c:\\\\Users\\\\CARNOT\\\\movies-recommendation'"
      ]
     },
     "execution_count": 4,
     "metadata": {},
     "output_type": "execute_result"
    }
   ],
   "source": [
    "%pwd"
   ]
  },
  {
   "cell_type": "code",
   "execution_count": 19,
   "metadata": {},
   "outputs": [],
   "source": [
    "\n",
    "def parse(file):\n",
    "    data = open(r\"data\\processed\\data1.csv\", mode=\"w\")\n",
    "    with open(file) as f:\n",
    "        lines = f.readlines()\n",
    "        for k in range(len(lines)):\n",
    "            line = lines[k]\n",
    "            line = line.strip()\n",
    "            if line.endswith(\":\"):\n",
    "                movie_id = line.replace(\":\", \"\")\n",
    "            else:\n",
    "                row = [x for x in line.split(\",\")]\n",
    "                row.insert(0, movie_id)\n",
    "                data.write(\",\".join(row))\n",
    "                data.write(\"\\n\")"
   ]
  },
  {
   "cell_type": "code",
   "execution_count": 20,
   "metadata": {},
   "outputs": [],
   "source": [
    "file_path = r\"data\\netflix price data\\combined_data_1.txt\"\n",
    "parse(file_path)"
   ]
  },
  {
   "cell_type": "code",
   "execution_count": 42,
   "metadata": {},
   "outputs": [],
   "source": [
    "df_years = []\n",
    "users_id = []\n",
    "movie_id = []\n",
    "\n",
    "df_viewmovies = pd.read_csv(\"data1.csv\", names= [\"movie_id\", \"customer_id\", \"rating\", \"ratingdate\"])\n",
    "df_viewmovies[\"rating\"] = df_viewmovies[\"rating\"].astype(np.float32)\n",
    "df_viewmovies.ratingdate = pd.to_datetime(df_viewmovies.ratingdate)\n"
   ]
  },
  {
   "cell_type": "code",
   "execution_count": 23,
   "metadata": {},
   "outputs": [
    {
     "data": {
      "text/html": [
       "<div>\n",
       "<style scoped>\n",
       "    .dataframe tbody tr th:only-of-type {\n",
       "        vertical-align: middle;\n",
       "    }\n",
       "\n",
       "    .dataframe tbody tr th {\n",
       "        vertical-align: top;\n",
       "    }\n",
       "\n",
       "    .dataframe thead th {\n",
       "        text-align: right;\n",
       "    }\n",
       "</style>\n",
       "<table border=\"1\" class=\"dataframe\">\n",
       "  <thead>\n",
       "    <tr style=\"text-align: right;\">\n",
       "      <th></th>\n",
       "      <th>movie_id</th>\n",
       "      <th>customer_id</th>\n",
       "      <th>rating</th>\n",
       "      <th>ratingdate</th>\n",
       "      <th>year</th>\n",
       "    </tr>\n",
       "  </thead>\n",
       "  <tbody>\n",
       "    <tr>\n",
       "      <th>0</th>\n",
       "      <td>1</td>\n",
       "      <td>1488844</td>\n",
       "      <td>3.0</td>\n",
       "      <td>2005-09-06</td>\n",
       "      <td>2005</td>\n",
       "    </tr>\n",
       "    <tr>\n",
       "      <th>1</th>\n",
       "      <td>1</td>\n",
       "      <td>822109</td>\n",
       "      <td>5.0</td>\n",
       "      <td>2005-05-13</td>\n",
       "      <td>2005</td>\n",
       "    </tr>\n",
       "    <tr>\n",
       "      <th>2</th>\n",
       "      <td>1</td>\n",
       "      <td>885013</td>\n",
       "      <td>4.0</td>\n",
       "      <td>2005-10-19</td>\n",
       "      <td>2005</td>\n",
       "    </tr>\n",
       "    <tr>\n",
       "      <th>3</th>\n",
       "      <td>1</td>\n",
       "      <td>30878</td>\n",
       "      <td>4.0</td>\n",
       "      <td>2005-12-26</td>\n",
       "      <td>2005</td>\n",
       "    </tr>\n",
       "    <tr>\n",
       "      <th>4</th>\n",
       "      <td>1</td>\n",
       "      <td>823519</td>\n",
       "      <td>3.0</td>\n",
       "      <td>2004-05-03</td>\n",
       "      <td>2004</td>\n",
       "    </tr>\n",
       "  </tbody>\n",
       "</table>\n",
       "</div>"
      ],
      "text/plain": [
       "   movie_id  customer_id  rating ratingdate  year\n",
       "0         1      1488844     3.0 2005-09-06  2005\n",
       "1         1       822109     5.0 2005-05-13  2005\n",
       "2         1       885013     4.0 2005-10-19  2005\n",
       "3         1        30878     4.0 2005-12-26  2005\n",
       "4         1       823519     3.0 2004-05-03  2004"
      ]
     },
     "execution_count": 23,
     "metadata": {},
     "output_type": "execute_result"
    }
   ],
   "source": [
    "df_viewmovies[\"year\"] = df_viewmovies.ratingdate.dt.year\n",
    "df_viewmovies.cnt = 1.0\n",
    "df_viewmovies.head()"
   ]
  },
  {
   "cell_type": "code",
   "execution_count": 24,
   "metadata": {},
   "outputs": [
    {
     "name": "stdout",
     "output_type": "stream",
     "text": [
      "<class 'pandas.core.frame.DataFrame'>\n",
      "RangeIndex: 24053764 entries, 0 to 24053763\n",
      "Data columns (total 5 columns):\n",
      " #   Column       Dtype         \n",
      "---  ------       -----         \n",
      " 0   movie_id     int64         \n",
      " 1   customer_id  int64         \n",
      " 2   rating       float32       \n",
      " 3   ratingdate   datetime64[ns]\n",
      " 4   year         int64         \n",
      "dtypes: datetime64[ns](1), float32(1), int64(3)\n",
      "memory usage: 825.8 MB\n"
     ]
    }
   ],
   "source": [
    "df_viewmovies.info()"
   ]
  },
  {
   "cell_type": "code",
   "execution_count": 26,
   "metadata": {},
   "outputs": [
    {
     "data": {
      "text/plain": [
       "movie_id       0\n",
       "customer_id    0\n",
       "rating         0\n",
       "ratingdate     0\n",
       "year           0\n",
       "dtype: int64"
      ]
     },
     "execution_count": 26,
     "metadata": {},
     "output_type": "execute_result"
    }
   ],
   "source": [
    "df_viewmovies.isna().sum()"
   ]
  },
  {
   "cell_type": "code",
   "execution_count": 29,
   "metadata": {},
   "outputs": [
    {
     "data": {
      "text/plain": [
       "Text(0.5, 1.0, 'Production per year')"
      ]
     },
     "execution_count": 29,
     "metadata": {},
     "output_type": "execute_result"
    },
    {
     "data": {
      "image/png": "[encoded data removed]",
      "text/plain": [
       "<Figure size 432x288 with 1 Axes>"
      ]
     },
     "metadata": {
      "needs_background": "light"
     },
     "output_type": "display_data"
    }
   ],
   "source": [
    "sns.countplot(data=df_viewmovies, x=\"year\")\n",
    "plt.xlabel(\"year\")\n",
    "plt.title(\"Production per year\")"
   ]
  },
  {
   "cell_type": "code",
   "execution_count": 31,
   "metadata": {},
   "outputs": [],
   "source": [
    "del df_viewmovies[\"year\"]"
   ]
  },
  {
   "cell_type": "code",
   "execution_count": 32,
   "metadata": {},
   "outputs": [
    {
     "data": {
      "text/plain": [
       "Index(['movie_id', 'customer_id', 'rating', 'ratingdate'], dtype='object')"
      ]
     },
     "execution_count": 32,
     "metadata": {},
     "output_type": "execute_result"
    }
   ],
   "source": [
    "df_viewmovies.columns"
   ]
  },
  {
   "cell_type": "code",
   "execution_count": 43,
   "metadata": {},
   "outputs": [
    {
     "name": "stdout",
     "output_type": "stream",
     "text": [
      "Movie minimum times of review: 3884.0\n",
      "Customer minimum times of review: 79.0\n",
      "96196\n"
     ]
    }
   ],
   "source": [
    "f = ['count','mean']\n",
    "\n",
    "df_movie_summary = df_viewmovies.groupby('movie_id')['rating'].agg(f)\n",
    "movie_benchmark = round(df_movie_summary['count'].quantile(0.8),0)\n",
    "keep_movie_list = df_movie_summary[~(df_movie_summary['count'] < movie_benchmark)].index\n",
    "\n",
    "print('Movie minimum times of review: {}'.format(movie_benchmark))\n",
    "\n",
    "df_cust_summary = df_viewmovies.groupby('customer_id')['rating'].agg(f)\n",
    "cust_benchmark = round(df_cust_summary['count'].quantile(0.8),0)\n",
    "keep_cust_list = df_cust_summary[~(df_cust_summary['count'] < cust_benchmark)].index\n",
    "\n",
    "print('Customer minimum times of review: {}'.format(cust_benchmark))\n",
    "\n",
    "# removing the index in keep_movie_list in keep_cust_list while maintaining the remaining index in the \n",
    "# keep_cust_list\n",
    "index_to_keep = np.union1d(keep_cust_list, keep_movie_list)\n",
    "print(len(index_to_keep))"
   ]
  },
  {
   "cell_type": "code",
   "execution_count": 44,
   "metadata": {},
   "outputs": [
    {
     "name": "stdout",
     "output_type": "stream",
     "text": [
      "Original Shape: (24053764, 4)\n",
      "After Trim Shape: (96196, 4)\n"
     ]
    }
   ],
   "source": [
    "print('Original Shape: {}'.format(df_viewmovies.shape))\n",
    "df_viewmovies = df_viewmovies.loc[index_to_keep]\n",
    "print('After Trim Shape: {}'.format(df_viewmovies.shape))"
   ]
  },
  {
   "cell_type": "code",
   "execution_count": 47,
   "metadata": {},
   "outputs": [
    {
     "data": {
      "text/plain": [
       "3"
      ]
     },
     "execution_count": 47,
     "metadata": {},
     "output_type": "execute_result"
    }
   ],
   "source": [
    "np.count_nonzero([0, 1,2,34])"
   ]
  },
  {
   "cell_type": "code",
   "execution_count": 60,
   "metadata": {},
   "outputs": [],
   "source": [
    "movie_count_mean = df_viewmovies.groupby(\"movie_id\", as_index=False).aggregate(movie_id_ratingcount=(\"rating\",pd.Series.count), movie_id_ratingmean=(\"rating\", np.mean))"
   ]
  },
  {
   "cell_type": "code",
   "execution_count": 55,
   "metadata": {},
   "outputs": [
    {
     "data": {
      "text/html": [
       "<div>\n",
       "<style scoped>\n",
       "    .dataframe tbody tr th:only-of-type {\n",
       "        vertical-align: middle;\n",
       "    }\n",
       "\n",
       "    .dataframe tbody tr th {\n",
       "        vertical-align: top;\n",
       "    }\n",
       "\n",
       "    .dataframe thead th {\n",
       "        text-align: right;\n",
       "    }\n",
       "</style>\n",
       "<table border=\"1\" class=\"dataframe\">\n",
       "  <thead>\n",
       "    <tr style=\"text-align: right;\">\n",
       "      <th></th>\n",
       "      <th>movie_id</th>\n",
       "      <th>movie_id_ratingcount</th>\n",
       "      <th>movie_id_ratingmean</th>\n",
       "    </tr>\n",
       "  </thead>\n",
       "  <tbody>\n",
       "    <tr>\n",
       "      <th>0</th>\n",
       "      <td>1</td>\n",
       "      <td>125.0</td>\n",
       "      <td>3.840000</td>\n",
       "    </tr>\n",
       "    <tr>\n",
       "      <th>1</th>\n",
       "      <td>2</td>\n",
       "      <td>38.0</td>\n",
       "      <td>3.631579</td>\n",
       "    </tr>\n",
       "    <tr>\n",
       "      <th>2</th>\n",
       "      <td>3</td>\n",
       "      <td>454.0</td>\n",
       "      <td>3.555066</td>\n",
       "    </tr>\n",
       "    <tr>\n",
       "      <th>3</th>\n",
       "      <td>4</td>\n",
       "      <td>27.0</td>\n",
       "      <td>2.666667</td>\n",
       "    </tr>\n",
       "    <tr>\n",
       "      <th>4</th>\n",
       "      <td>5</td>\n",
       "      <td>271.0</td>\n",
       "      <td>4.033210</td>\n",
       "    </tr>\n",
       "  </tbody>\n",
       "</table>\n",
       "</div>"
      ],
      "text/plain": [
       "   movie_id  movie_id_ratingcount  movie_id_ratingmean\n",
       "0         1                 125.0             3.840000\n",
       "1         2                  38.0             3.631579\n",
       "2         3                 454.0             3.555066\n",
       "3         4                  27.0             2.666667\n",
       "4         5                 271.0             4.033210"
      ]
     },
     "execution_count": 55,
     "metadata": {},
     "output_type": "execute_result"
    }
   ],
   "source": [
    "movie_count_mean.head()"
   ]
  },
  {
   "cell_type": "code",
   "execution_count": 54,
   "metadata": {},
   "outputs": [],
   "source": [
    "user_count_mean = df_viewmovies.groupby(\"customer_id\", as_index=False).aggregate(user_id_ratingcount=(\"rating\",pd.Series.count), user_id_ratingmean=(\"rating\", np.mean))"
   ]
  },
  {
   "cell_type": "code",
   "execution_count": 56,
   "metadata": {},
   "outputs": [
    {
     "data": {
      "text/html": [
       "<div>\n",
       "<style scoped>\n",
       "    .dataframe tbody tr th:only-of-type {\n",
       "        vertical-align: middle;\n",
       "    }\n",
       "\n",
       "    .dataframe tbody tr th {\n",
       "        vertical-align: top;\n",
       "    }\n",
       "\n",
       "    .dataframe thead th {\n",
       "        text-align: right;\n",
       "    }\n",
       "</style>\n",
       "<table border=\"1\" class=\"dataframe\">\n",
       "  <thead>\n",
       "    <tr style=\"text-align: right;\">\n",
       "      <th></th>\n",
       "      <th>customer_id</th>\n",
       "      <th>user_id_ratingcount</th>\n",
       "      <th>user_id_ratingmean</th>\n",
       "    </tr>\n",
       "  </thead>\n",
       "  <tbody>\n",
       "    <tr>\n",
       "      <th>0</th>\n",
       "      <td>6</td>\n",
       "      <td>1.0</td>\n",
       "      <td>4.0</td>\n",
       "    </tr>\n",
       "    <tr>\n",
       "      <th>1</th>\n",
       "      <td>10</td>\n",
       "      <td>1.0</td>\n",
       "      <td>5.0</td>\n",
       "    </tr>\n",
       "    <tr>\n",
       "      <th>2</th>\n",
       "      <td>97</td>\n",
       "      <td>1.0</td>\n",
       "      <td>4.0</td>\n",
       "    </tr>\n",
       "    <tr>\n",
       "      <th>3</th>\n",
       "      <td>183</td>\n",
       "      <td>1.0</td>\n",
       "      <td>4.0</td>\n",
       "    </tr>\n",
       "    <tr>\n",
       "      <th>4</th>\n",
       "      <td>188</td>\n",
       "      <td>1.0</td>\n",
       "      <td>2.0</td>\n",
       "    </tr>\n",
       "  </tbody>\n",
       "</table>\n",
       "</div>"
      ],
      "text/plain": [
       "   customer_id  user_id_ratingcount  user_id_ratingmean\n",
       "0            6                  1.0                 4.0\n",
       "1           10                  1.0                 5.0\n",
       "2           97                  1.0                 4.0\n",
       "3          183                  1.0                 4.0\n",
       "4          188                  1.0                 2.0"
      ]
     },
     "execution_count": 56,
     "metadata": {},
     "output_type": "execute_result"
    }
   ],
   "source": [
    "user_count_mean.head()"
   ]
  },
  {
   "cell_type": "code",
   "execution_count": 61,
   "metadata": {},
   "outputs": [
    {
     "data": {
      "text/html": [
       "<div>\n",
       "<style scoped>\n",
       "    .dataframe tbody tr th:only-of-type {\n",
       "        vertical-align: middle;\n",
       "    }\n",
       "\n",
       "    .dataframe tbody tr th {\n",
       "        vertical-align: top;\n",
       "    }\n",
       "\n",
       "    .dataframe thead th {\n",
       "        text-align: right;\n",
       "    }\n",
       "</style>\n",
       "<table border=\"1\" class=\"dataframe\">\n",
       "  <thead>\n",
       "    <tr style=\"text-align: right;\">\n",
       "      <th></th>\n",
       "      <th>movie_id</th>\n",
       "      <th>customer_id</th>\n",
       "      <th>rating</th>\n",
       "      <th>ratingdate</th>\n",
       "      <th>movie_id_ratingcount</th>\n",
       "      <th>movie_id_ratingmean</th>\n",
       "      <th>user_id_ratingcount</th>\n",
       "      <th>user_id_ratingmean</th>\n",
       "    </tr>\n",
       "  </thead>\n",
       "  <tbody>\n",
       "    <tr>\n",
       "      <th>0</th>\n",
       "      <td>1</td>\n",
       "      <td>124105</td>\n",
       "      <td>4.0</td>\n",
       "      <td>2004-08-05</td>\n",
       "      <td>125.0</td>\n",
       "      <td>3.840000</td>\n",
       "      <td>1.0</td>\n",
       "      <td>4.000000</td>\n",
       "    </tr>\n",
       "    <tr>\n",
       "      <th>1</th>\n",
       "      <td>1</td>\n",
       "      <td>1248029</td>\n",
       "      <td>3.0</td>\n",
       "      <td>2004-04-22</td>\n",
       "      <td>125.0</td>\n",
       "      <td>3.840000</td>\n",
       "      <td>3.0</td>\n",
       "      <td>3.666667</td>\n",
       "    </tr>\n",
       "    <tr>\n",
       "      <th>2</th>\n",
       "      <td>58</td>\n",
       "      <td>1248029</td>\n",
       "      <td>3.0</td>\n",
       "      <td>2004-09-27</td>\n",
       "      <td>646.0</td>\n",
       "      <td>3.614551</td>\n",
       "      <td>3.0</td>\n",
       "      <td>3.666667</td>\n",
       "    </tr>\n",
       "    <tr>\n",
       "      <th>3</th>\n",
       "      <td>426</td>\n",
       "      <td>1248029</td>\n",
       "      <td>5.0</td>\n",
       "      <td>2004-08-08</td>\n",
       "      <td>147.0</td>\n",
       "      <td>3.183673</td>\n",
       "      <td>3.0</td>\n",
       "      <td>3.666667</td>\n",
       "    </tr>\n",
       "    <tr>\n",
       "      <th>4</th>\n",
       "      <td>1</td>\n",
       "      <td>1842128</td>\n",
       "      <td>4.0</td>\n",
       "      <td>2004-05-09</td>\n",
       "      <td>125.0</td>\n",
       "      <td>3.840000</td>\n",
       "      <td>1.0</td>\n",
       "      <td>4.000000</td>\n",
       "    </tr>\n",
       "  </tbody>\n",
       "</table>\n",
       "</div>"
      ],
      "text/plain": [
       "   movie_id  customer_id  rating ratingdate  movie_id_ratingcount  \\\n",
       "0         1       124105     4.0 2004-08-05                 125.0   \n",
       "1         1      1248029     3.0 2004-04-22                 125.0   \n",
       "2        58      1248029     3.0 2004-09-27                 646.0   \n",
       "3       426      1248029     5.0 2004-08-08                 147.0   \n",
       "4         1      1842128     4.0 2004-05-09                 125.0   \n",
       "\n",
       "   movie_id_ratingmean  user_id_ratingcount  user_id_ratingmean  \n",
       "0             3.840000                  1.0            4.000000  \n",
       "1             3.840000                  3.0            3.666667  \n",
       "2             3.614551                  3.0            3.666667  \n",
       "3             3.183673                  3.0            3.666667  \n",
       "4             3.840000                  1.0            4.000000  "
      ]
     },
     "execution_count": 61,
     "metadata": {},
     "output_type": "execute_result"
    }
   ],
   "source": [
    "df = pd.merge(df_viewmovies, movie_count_mean, on=\"movie_id\")\n",
    "df = pd.merge(df, user_count_mean, on=\"customer_id\")\n",
    "df.head()"
   ]
  },
  {
   "cell_type": "code",
   "execution_count": 65,
   "metadata": {},
   "outputs": [
    {
     "data": {
      "text/html": [
       "<div>\n",
       "<style scoped>\n",
       "    .dataframe tbody tr th:only-of-type {\n",
       "        vertical-align: middle;\n",
       "    }\n",
       "\n",
       "    .dataframe tbody tr th {\n",
       "        vertical-align: top;\n",
       "    }\n",
       "\n",
       "    .dataframe thead th {\n",
       "        text-align: right;\n",
       "    }\n",
       "</style>\n",
       "<table border=\"1\" class=\"dataframe\">\n",
       "  <thead>\n",
       "    <tr style=\"text-align: right;\">\n",
       "      <th></th>\n",
       "      <th>Movie_Id</th>\n",
       "      <th>Year</th>\n",
       "      <th>Name</th>\n",
       "    </tr>\n",
       "  </thead>\n",
       "  <tbody>\n",
       "    <tr>\n",
       "      <th>0</th>\n",
       "      <td>1</td>\n",
       "      <td>2003.0</td>\n",
       "      <td>Dinosaur Planet</td>\n",
       "    </tr>\n",
       "    <tr>\n",
       "      <th>1</th>\n",
       "      <td>2</td>\n",
       "      <td>2004.0</td>\n",
       "      <td>Isle of Man TT 2004 Review</td>\n",
       "    </tr>\n",
       "    <tr>\n",
       "      <th>2</th>\n",
       "      <td>3</td>\n",
       "      <td>1997.0</td>\n",
       "      <td>Character</td>\n",
       "    </tr>\n",
       "    <tr>\n",
       "      <th>3</th>\n",
       "      <td>4</td>\n",
       "      <td>1994.0</td>\n",
       "      <td>Paula Abdul's Get Up &amp; Dance</td>\n",
       "    </tr>\n",
       "    <tr>\n",
       "      <th>4</th>\n",
       "      <td>5</td>\n",
       "      <td>2004.0</td>\n",
       "      <td>The Rise and Fall of ECW</td>\n",
       "    </tr>\n",
       "  </tbody>\n",
       "</table>\n",
       "</div>"
      ],
      "text/plain": [
       "   Movie_Id    Year                          Name\n",
       "0         1  2003.0               Dinosaur Planet\n",
       "1         2  2004.0    Isle of Man TT 2004 Review\n",
       "2         3  1997.0                     Character\n",
       "3         4  1994.0  Paula Abdul's Get Up & Dance\n",
       "4         5  2004.0      The Rise and Fall of ECW"
      ]
     },
     "execution_count": 65,
     "metadata": {},
     "output_type": "execute_result"
    }
   ],
   "source": [
    "movies_title = pd.read_csv(r\"data\\netflix price data\\movie_titles.csv\", encoding = \"ISO-8859-1\", header = None, names = ['Movie_Id', 'Year', 'Name'])\n",
    "movies_title.head()"
   ]
  },
  {
   "cell_type": "code",
   "execution_count": 67,
   "metadata": {},
   "outputs": [
    {
     "data": {
      "text/plain": [
       "Index(['movie_id', 'customer_id', 'rating', 'ratingdate',\n",
       "       'movie_id_ratingcount', 'movie_id_ratingmean', 'user_id_ratingcount',\n",
       "       'user_id_ratingmean'],\n",
       "      dtype='object')"
      ]
     },
     "execution_count": 67,
     "metadata": {},
     "output_type": "execute_result"
    }
   ],
   "source": [
    "df.columns"
   ]
  },
  {
   "cell_type": "code",
   "execution_count": 71,
   "metadata": {},
   "outputs": [
    {
     "name": "stdout",
     "output_type": "stream",
     "text": [
      "Evaluating RMSE, MAE of algorithm SVD on 5 split(s).\n",
      "\n",
      "                  Fold 1  Fold 2  Fold 3  Fold 4  Fold 5  Mean    Std     \n",
      "RMSE (testset)    1.0196  1.0275  1.0288  1.0341  1.0300  1.0280  0.0047  \n",
      "MAE (testset)     0.8152  0.8226  0.8233  0.8271  0.8251  0.8226  0.0040  \n",
      "Fit time          8.50    8.38    8.35    7.81    8.04    8.22    0.25    \n",
      "Test time         1.04    0.24    0.22    0.21    0.22    0.39    0.33    \n"
     ]
    },
    {
     "data": {
      "text/plain": [
       "{'test_rmse': array([1.0195877 , 1.02749844, 1.02883566, 1.03408994, 1.02995998]),\n",
       " 'test_mae': array([0.81520485, 0.82257906, 0.82331946, 0.82705785, 0.8250587 ]),\n",
       " 'fit_time': (8.496544361114502,\n",
       "  8.377563714981079,\n",
       "  8.35404634475708,\n",
       "  7.81378436088562,\n",
       "  8.043336391448975),\n",
       " 'test_time': (1.0361754894256592,\n",
       "  0.23800373077392578,\n",
       "  0.220001220703125,\n",
       "  0.21399354934692383,\n",
       "  0.21699118614196777)}"
      ]
     },
     "execution_count": 71,
     "metadata": {},
     "output_type": "execute_result"
    }
   ],
   "source": [
    "reader = Reader()\n",
    "\n",
    "# get just top 100K rows for faster run time\n",
    "data = Dataset.load_from_df(df[['customer_id', 'movie_id', 'rating']][:100000], reader)\n",
    "\n",
    "trainer = SVD()\n",
    "\n",
    "cross_validate(trainer, data, measures=[\"RMSE\", \"MAE\"], cv=5, verbose=True)"
   ]
  },
  {
   "cell_type": "code",
   "execution_count": 73,
   "metadata": {},
   "outputs": [
    {
     "data": {
      "text/plain": [
       "<surprise.prediction_algorithms.matrix_factorization.SVD at 0x2cb8894e0a0>"
      ]
     },
     "execution_count": 73,
     "metadata": {},
     "output_type": "execute_result"
    }
   ],
   "source": [
    "trainset = data.build_full_trainset()\n",
    "trainer.fit(trainset)"
   ]
  },
  {
   "cell_type": "code",
   "execution_count": 75,
   "metadata": {},
   "outputs": [],
   "source": [
    "dump(\"models/svd.pkl\", algo=trainer)"
   ]
  }
 ],
 "metadata": {
  "kernelspec": {
   "display_name": "Python 3.9.12 64-bit",
   "language": "python",
   "name": "python3"
  },
  "language_info": {
   "codemirror_mode": {
    "name": "ipython",
    "version": 3
   },
   "file_extension": ".py",
   "mimetype": "text/x-python",
   "name": "python",
   "nbconvert_exporter": "python",
   "pygments_lexer": "ipython3",
   "version": "3.9.12"
  },
  "orig_nbformat": 4,
  "vscode": {
   "interpreter": {
    "hash": "ad2bdc8ecc057115af97d19610ffacc2b4e99fae6737bb82f5d7fb13d2f2c186"
   }
  }
 },
 "nbformat": 4,
 "nbformat_minor": 2
}
